{
 "cells": [
  {
   "cell_type": "code",
   "execution_count": null,
   "id": "initial_id",
   "metadata": {
    "collapsed": true
   },
   "outputs": [],
   "source": [
    ""
   ]
  },
  {
   "metadata": {},
   "cell_type": "markdown",
   "source": "## Load the matches dataframe",
   "id": "67ddeb3353be97ef"
  },
  {
   "metadata": {
    "ExecuteTime": {
     "end_time": "2024-08-16T11:19:32.553665Z",
     "start_time": "2024-08-16T11:19:32.227571Z"
    }
   },
   "cell_type": "code",
   "source": [
    "from matches_df import MatchesDF\n",
    "\n",
    "matches = MatchesDF('../results/round1/matches.zip', '../data/ms_data.zip')"
   ],
   "id": "ee4b4a13bc1d63de",
   "outputs": [],
   "execution_count": 1
  },
  {
   "metadata": {},
   "cell_type": "markdown",
   "source": "## Group by mass diff",
   "id": "5876f6907ed08f9e"
  },
  {
   "metadata": {
    "ExecuteTime": {
     "end_time": "2024-08-16T11:20:30.458038Z",
     "start_time": "2024-08-16T11:20:30.403557Z"
    }
   },
   "cell_type": "code",
   "source": [
    "mbmd = matches.group_by_mass_diff()\n",
    "mbmd"
   ],
   "id": "d6167ab35a7c227",
   "outputs": [
    {
     "name": "stderr",
     "output_type": "stream",
     "text": [
      "/home/joao-correia/PycharmProjects/BioCatalyzer-CaseStudy/matches_df.py:42: SettingWithCopyWarning: \n",
      "A value is trying to be set on a copy of a slice from a DataFrame.\n",
      "Try using .loc[row_indexer,col_indexer] = value instead\n",
      "\n",
      "See the caveats in the documentation: https://pandas.pydata.org/pandas-docs/stable/user_guide/indexing.html#returning-a-view-versus-a-copy\n",
      "  mbmd['MassDiff'] = [self._ms_data.iloc[i].MassDiff for i in mbmd.Index.values]\n"
     ]
    },
    {
     "data": {
      "text/plain": [
       "          Matches  Total  Percentage\n",
       "MassDiff                            \n",
       "-568.231      1.0      1         1.0\n",
       "-72.021       1.0      1         1.0\n",
       "-20.006       3.0      3         1.0\n",
       "-23.999       2.0      2         1.0\n",
       "-27.995       3.0      3         1.0\n",
       "...           ...    ...         ...\n",
       " 697.397      NaN      1         NaN\n",
       " 704.277      NaN      1         NaN\n",
       " 704.836      NaN      1         NaN\n",
       " 705.356      NaN      1         NaN\n",
       " 708.293      NaN      1         NaN\n",
       "\n",
       "[5161 rows x 3 columns]"
      ],
      "text/html": [
       "<div>\n",
       "<style scoped>\n",
       "    .dataframe tbody tr th:only-of-type {\n",
       "        vertical-align: middle;\n",
       "    }\n",
       "\n",
       "    .dataframe tbody tr th {\n",
       "        vertical-align: top;\n",
       "    }\n",
       "\n",
       "    .dataframe thead th {\n",
       "        text-align: right;\n",
       "    }\n",
       "</style>\n",
       "<table border=\"1\" class=\"dataframe\">\n",
       "  <thead>\n",
       "    <tr style=\"text-align: right;\">\n",
       "      <th></th>\n",
       "      <th>Matches</th>\n",
       "      <th>Total</th>\n",
       "      <th>Percentage</th>\n",
       "    </tr>\n",
       "    <tr>\n",
       "      <th>MassDiff</th>\n",
       "      <th></th>\n",
       "      <th></th>\n",
       "      <th></th>\n",
       "    </tr>\n",
       "  </thead>\n",
       "  <tbody>\n",
       "    <tr>\n",
       "      <th>-568.231</th>\n",
       "      <td>1.0</td>\n",
       "      <td>1</td>\n",
       "      <td>1.0</td>\n",
       "    </tr>\n",
       "    <tr>\n",
       "      <th>-72.021</th>\n",
       "      <td>1.0</td>\n",
       "      <td>1</td>\n",
       "      <td>1.0</td>\n",
       "    </tr>\n",
       "    <tr>\n",
       "      <th>-20.006</th>\n",
       "      <td>3.0</td>\n",
       "      <td>3</td>\n",
       "      <td>1.0</td>\n",
       "    </tr>\n",
       "    <tr>\n",
       "      <th>-23.999</th>\n",
       "      <td>2.0</td>\n",
       "      <td>2</td>\n",
       "      <td>1.0</td>\n",
       "    </tr>\n",
       "    <tr>\n",
       "      <th>-27.995</th>\n",
       "      <td>3.0</td>\n",
       "      <td>3</td>\n",
       "      <td>1.0</td>\n",
       "    </tr>\n",
       "    <tr>\n",
       "      <th>...</th>\n",
       "      <td>...</td>\n",
       "      <td>...</td>\n",
       "      <td>...</td>\n",
       "    </tr>\n",
       "    <tr>\n",
       "      <th>697.397</th>\n",
       "      <td>NaN</td>\n",
       "      <td>1</td>\n",
       "      <td>NaN</td>\n",
       "    </tr>\n",
       "    <tr>\n",
       "      <th>704.277</th>\n",
       "      <td>NaN</td>\n",
       "      <td>1</td>\n",
       "      <td>NaN</td>\n",
       "    </tr>\n",
       "    <tr>\n",
       "      <th>704.836</th>\n",
       "      <td>NaN</td>\n",
       "      <td>1</td>\n",
       "      <td>NaN</td>\n",
       "    </tr>\n",
       "    <tr>\n",
       "      <th>705.356</th>\n",
       "      <td>NaN</td>\n",
       "      <td>1</td>\n",
       "      <td>NaN</td>\n",
       "    </tr>\n",
       "    <tr>\n",
       "      <th>708.293</th>\n",
       "      <td>NaN</td>\n",
       "      <td>1</td>\n",
       "      <td>NaN</td>\n",
       "    </tr>\n",
       "  </tbody>\n",
       "</table>\n",
       "<p>5161 rows × 3 columns</p>\n",
       "</div>"
      ]
     },
     "execution_count": 3,
     "metadata": {},
     "output_type": "execute_result"
    }
   ],
   "execution_count": 3
  },
  {
   "metadata": {},
   "cell_type": "markdown",
   "source": "### Oxidation (-H2)",
   "id": "cca6ade5646ca280"
  },
  {
   "metadata": {
    "ExecuteTime": {
     "end_time": "2024-08-16T11:21:59.563906Z",
     "start_time": "2024-08-16T11:21:59.558716Z"
    }
   },
   "cell_type": "code",
   "source": [
    "import numpy as np\n",
    "mask = np.isclose(mbmd.index, -2.016, rtol=0, atol=0.02)\n",
    "result = mbmd[mask]\n",
    "result.iloc[0]"
   ],
   "id": "f389817245d8df7f",
   "outputs": [
    {
     "data": {
      "text/plain": [
       "Matches       12.000000\n",
       "Total         23.000000\n",
       "Percentage     0.521739\n",
       "Name: -2.015, dtype: float64"
      ]
     },
     "execution_count": 6,
     "metadata": {},
     "output_type": "execute_result"
    }
   ],
   "execution_count": 6
  },
  {
   "metadata": {},
   "cell_type": "markdown",
   "source": "### Reduction (-O)",
   "id": "e5034c36f56e7418"
  },
  {
   "metadata": {
    "ExecuteTime": {
     "end_time": "2024-08-16T11:25:46.706350Z",
     "start_time": "2024-08-16T11:25:46.701545Z"
    }
   },
   "cell_type": "code",
   "source": [
    "import numpy as np\n",
    "mask = np.isclose(mbmd.index, -15.995, rtol=0, atol=0.02)\n",
    "result = mbmd[mask]\n",
    "result.iloc[0]"
   ],
   "id": "2107aadacce04bb4",
   "outputs": [
    {
     "data": {
      "text/plain": [
       "Matches        7.000000\n",
       "Total         12.000000\n",
       "Percentage     0.583333\n",
       "Name: -15.995, dtype: float64"
      ]
     },
     "execution_count": 8,
     "metadata": {},
     "output_type": "execute_result"
    }
   ],
   "execution_count": 8
  },
  {
   "metadata": {},
   "cell_type": "markdown",
   "source": "### Deacetylation (-C2H2O)",
   "id": "c73e952eb158040a"
  },
  {
   "metadata": {
    "ExecuteTime": {
     "end_time": "2024-08-16T11:26:25.461989Z",
     "start_time": "2024-08-16T11:26:25.457085Z"
    }
   },
   "cell_type": "code",
   "source": [
    "import numpy as np\n",
    "mask = np.isclose(mbmd.index, -42.011, rtol=0, atol=0.02)\n",
    "result = mbmd[mask]\n",
    "result.iloc[0]"
   ],
   "id": "8e89af19ede3192",
   "outputs": [
    {
     "data": {
      "text/plain": [
       "Matches        8.000000\n",
       "Total         13.000000\n",
       "Percentage     0.615385\n",
       "Name: -42.01, dtype: float64"
      ]
     },
     "execution_count": 9,
     "metadata": {},
     "output_type": "execute_result"
    }
   ],
   "execution_count": 9
  },
  {
   "metadata": {},
   "cell_type": "markdown",
   "source": "### Hydrogenation (+H2)",
   "id": "5003609dd1d92e7f"
  },
  {
   "metadata": {
    "ExecuteTime": {
     "end_time": "2024-08-16T11:26:40.288766Z",
     "start_time": "2024-08-16T11:26:40.284582Z"
    }
   },
   "cell_type": "code",
   "source": [
    "import numpy as np\n",
    "mask = np.isclose(mbmd.index, +2.016, rtol=0, atol=0.02)\n",
    "result = mbmd[mask]\n",
    "result.iloc[0]"
   ],
   "id": "1493d1eb292f1331",
   "outputs": [
    {
     "data": {
      "text/plain": [
       "Matches       11.0000\n",
       "Total         16.0000\n",
       "Percentage     0.6875\n",
       "Name: 2.016, dtype: float64"
      ]
     },
     "execution_count": 10,
     "metadata": {},
     "output_type": "execute_result"
    }
   ],
   "execution_count": 10
  },
  {
   "metadata": {},
   "cell_type": "markdown",
   "source": "### Oxidation (+O)",
   "id": "98c20551035c2faf"
  },
  {
   "metadata": {
    "ExecuteTime": {
     "end_time": "2024-08-16T11:28:27.788038Z",
     "start_time": "2024-08-16T11:28:27.783609Z"
    }
   },
   "cell_type": "code",
   "source": [
    "import numpy as np\n",
    "mask = np.isclose(mbmd.index, +15.995, rtol=0, atol=0.02)\n",
    "result = mbmd[mask]\n",
    "result.iloc[1]"
   ],
   "id": "5848e1810eaf8823",
   "outputs": [
    {
     "data": {
      "text/plain": [
       "Matches       22.000000\n",
       "Total         39.000000\n",
       "Percentage     0.564103\n",
       "Name: 15.995, dtype: float64"
      ]
     },
     "execution_count": 17,
     "metadata": {},
     "output_type": "execute_result"
    }
   ],
   "execution_count": 17
  },
  {
   "metadata": {},
   "cell_type": "markdown",
   "source": "### Hydroxylation (+H2O)",
   "id": "49aef2558da5b82f"
  },
  {
   "metadata": {
    "ExecuteTime": {
     "end_time": "2024-08-16T11:26:56.350229Z",
     "start_time": "2024-08-16T11:26:56.345895Z"
    }
   },
   "cell_type": "code",
   "source": [
    "import numpy as np\n",
    "mask = np.isclose(mbmd.index, +18.010, rtol=0, atol=0.02)\n",
    "result = mbmd[mask]\n",
    "result.iloc[0]"
   ],
   "id": "9105182d84278a6f",
   "outputs": [
    {
     "data": {
      "text/plain": [
       "Matches        7.000000\n",
       "Total         12.000000\n",
       "Percentage     0.583333\n",
       "Name: 18.011, dtype: float64"
      ]
     },
     "execution_count": 12,
     "metadata": {},
     "output_type": "execute_result"
    }
   ],
   "execution_count": 12
  },
  {
   "metadata": {},
   "cell_type": "markdown",
   "source": "### Acetylation (+C2H2O)",
   "id": "82a6c859d09897aa"
  },
  {
   "metadata": {
    "ExecuteTime": {
     "end_time": "2024-08-16T11:27:41.114577Z",
     "start_time": "2024-08-16T11:27:41.109421Z"
    }
   },
   "cell_type": "code",
   "source": [
    "import numpy as np\n",
    "mask = np.isclose(mbmd.index, +42.011, rtol=0, atol=0.02)\n",
    "result = mbmd[mask]\n",
    "result.iloc[0]"
   ],
   "id": "4a347c8095b7d79e",
   "outputs": [
    {
     "data": {
      "text/plain": [
       "Matches       5.000000\n",
       "Total         7.000000\n",
       "Percentage    0.714286\n",
       "Name: 42.011, dtype: float64"
      ]
     },
     "execution_count": 14,
     "metadata": {},
     "output_type": "execute_result"
    }
   ],
   "execution_count": 14
  },
  {
   "metadata": {},
   "cell_type": "markdown",
   "source": "### Propionylation (+C3H4O)",
   "id": "eb1550141661b8bd"
  },
  {
   "metadata": {
    "ExecuteTime": {
     "end_time": "2024-08-16T11:27:45.634017Z",
     "start_time": "2024-08-16T11:27:45.628857Z"
    }
   },
   "cell_type": "code",
   "source": [
    "import numpy as np\n",
    "mask = np.isclose(mbmd.index, +56.026, rtol=0, atol=0.02)\n",
    "result = mbmd[mask]\n",
    "result.iloc[0]"
   ],
   "id": "9e3702d4013b40c6",
   "outputs": [
    {
     "data": {
      "text/plain": [
       "Matches       1.000000\n",
       "Total         7.000000\n",
       "Percentage    0.142857\n",
       "Name: 56.026, dtype: float64"
      ]
     },
     "execution_count": 15,
     "metadata": {},
     "output_type": "execute_result"
    }
   ],
   "execution_count": 15
  },
  {
   "metadata": {},
   "cell_type": "code",
   "outputs": [],
   "execution_count": null,
   "source": "",
   "id": "3952d16941a32bf6"
  }
 ],
 "metadata": {
  "kernelspec": {
   "display_name": "Python 3",
   "language": "python",
   "name": "python3"
  },
  "language_info": {
   "codemirror_mode": {
    "name": "ipython",
    "version": 2
   },
   "file_extension": ".py",
   "mimetype": "text/x-python",
   "name": "python",
   "nbconvert_exporter": "python",
   "pygments_lexer": "ipython2",
   "version": "2.7.6"
  }
 },
 "nbformat": 4,
 "nbformat_minor": 5
}
